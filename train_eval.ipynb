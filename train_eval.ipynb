{
 "cells": [
  {
   "cell_type": "code",
   "execution_count": null,
   "metadata": {
    "collapsed": true
   },
   "outputs": [],
   "source": [
    "import os\n",
    "from flags import parse_args"
   ]
  },
  {
   "cell_type": "code",
   "execution_count": null,
   "metadata": {
    "collapsed": true
   },
   "outputs": [],
   "source": [
    "FLAGS, unparsed = parse_args()\n",
    "print('current working dir [{0}]'.format(os.getcwd()))\n",
    "w_d = os.path.dirname(os.path.abspath(__file__))\n",
    "print('change wording dir to [{0}]'.format(w_d))\n",
    "os.chdir(w_d)"
   ]
  },
  {
   "cell_type": "code",
   "execution_count": null,
   "metadata": {
    "collapsed": true
   },
   "outputs": [],
   "source": [
    "cmd = \"\"\n",
    "for parm in [\"output_dir\", \"text\", \"num_steps\", \"batch_size\", \"dictionary\", \"reverse_dictionary\", \"learning_rate\"]:\n",
    "    try:\n",
    "        cmd += ' --{0}={1}'.format(parm, getattr(FLAGS, parm))\n",
    "    except:\n",
    "        pass"
   ]
  },
  {
   "cell_type": "code",
   "execution_count": null,
   "metadata": {
    "collapsed": true
   },
   "outputs": [],
   "source": [
    "for i in range(30):\n",
    "    # train 1 epoch\n",
    "    print('################    train    ################', i)\n",
    "    p = os.popen('python ./train.py' + cmd)\n",
    "    for l in p:\n",
    "        print(l.strip())\n",
    "\n",
    "    # eval\n",
    "    print('################    eval    ################', i)\n",
    "    p = os.popen('python ./sample.py' + cmd)\n",
    "    for l in p:\n",
    "        print(l.strip())"
   ]
  },
  {
   "cell_type": "code",
   "execution_count": null,
   "metadata": {
    "collapsed": true
   },
   "outputs": [],
   "source": []
  }
 ],
 "metadata": {
  "kernelspec": {
   "display_name": "Python 3",
   "language": "python",
   "name": "python3"
  },
  "language_info": {
   "codemirror_mode": {
    "name": "ipython",
    "version": 3
   },
   "file_extension": ".py",
   "mimetype": "text/x-python",
   "name": "python",
   "nbconvert_exporter": "python",
   "pygments_lexer": "ipython3",
   "version": "3.6.3"
  }
 },
 "nbformat": 4,
 "nbformat_minor": 2
}

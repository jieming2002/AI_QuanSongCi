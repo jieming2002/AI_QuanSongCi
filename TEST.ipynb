{
 "cells": [
  {
   "cell_type": "code",
   "execution_count": 1,
   "metadata": {
    "collapsed": true
   },
   "outputs": [],
   "source": [
    "import tensorflow as tf\n",
    "import numpy as np"
   ]
  },
  {
   "cell_type": "code",
   "execution_count": null,
   "metadata": {
    "collapsed": true
   },
   "outputs": [],
   "source": [
    "tf.summary.histogram('embed', embed)\n",
    "tf.nn.embedding_lookup(embed, self.X)\n",
    "tf.one_hot(self.X, self.num_words)\n",
    "tf.nn.rnn_cell.BasicLSTMCell(self.dim_embedding)\n",
    "tf.nn.rnn_cell.DropoutWrapper()\n",
    "tf.nn.rnn_cell.MultiRNNCell()\n",
    "np.array()"
   ]
  },
  {
   "cell_type": "code",
   "execution_count": 1,
   "metadata": {},
   "outputs": [],
   "source": [
    "#导入时会执行\n",
    "# import train"
   ]
  },
  {
   "cell_type": "code",
   "execution_count": 1,
   "metadata": {},
   "outputs": [
    {
     "name": "stdout",
     "output_type": "stream",
     "text": [
      "current working dir [E:\\work_space\\CSDN_AI\\week10\\homework_2]\n",
      "change wording dir to [E:\\work_space\\CSDN_AI\\week10\\homework_2]\n",
      "################    train    ################ 0\n",
      "filename = ./data/QuanSongCi.txt\n",
      "Data size 1902957\n",
      "embedding_file = ./data/embedding.npy\n",
      "################    eval    ################ 0\n",
      "embedding_file = None\n",
      "################    train    ################ 1\n",
      "filename = ./data/QuanSongCi.txt\n",
      "Data size 1902957\n",
      "embedding_file = ./data/embedding.npy\n",
      "################    eval    ################ 1\n",
      "embedding_file = None\n"
     ]
    }
   ],
   "source": [
    "#导入时会执行\n",
    "import train_eval"
   ]
  },
  {
   "cell_type": "code",
   "execution_count": null,
   "metadata": {
    "collapsed": true
   },
   "outputs": [],
   "source": []
  }
 ],
 "metadata": {
  "kernelspec": {
   "display_name": "Python 3",
   "language": "python",
   "name": "python3"
  },
  "language_info": {
   "codemirror_mode": {
    "name": "ipython",
    "version": 3
   },
   "file_extension": ".py",
   "mimetype": "text/x-python",
   "name": "python",
   "nbconvert_exporter": "python",
   "pygments_lexer": "ipython3",
   "version": "3.6.3"
  }
 },
 "nbformat": 4,
 "nbformat_minor": 2
}
